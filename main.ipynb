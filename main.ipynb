{
 "cells": [
  {
   "cell_type": "code",
   "execution_count": 15,
   "id": "65e895c7",
   "metadata": {},
   "outputs": [],
   "source": [
    "import pandas as pd\n",
    "import numpy as np\n",
    "from sklearn.linear_model import LinearRegression\n",
    "from sklearn.metrics import mean_absolute_error, mean_squared_error\n",
    "from sklearn.model_selection import train_test_split\n",
    "from sklearn.preprocessing import StandardScaler"
   ]
  },
  {
   "cell_type": "code",
   "execution_count": 20,
   "id": "a8380930",
   "metadata": {},
   "outputs": [
    {
     "name": "stdout",
     "output_type": "stream",
     "text": [
      "Accuracy based on different loss functions:\n",
      "MAE: 56.38769773511658\n",
      "MSE: 4482.248127333771\n",
      "RMSE: 66.94959392956592\n"
     ]
    }
   ],
   "source": [
    "def preprocessing():\n",
    "    dataset = pd.read_csv(\"petrol_consumption.csv\")\n",
    "    data = dataset[dataset.columns[0:4]]\n",
    "    label = dataset.Petrol_Consumption\n",
    "    train_features, test_features, train_labels, test_labels = train_test_split(data, label, test_size=0.2, random_state=10)\n",
    "    return train_features, test_features, train_labels, test_labels\n",
    "\n",
    "\n",
    "def train():\n",
    "    train_features, test_features, train_labels, test_labels = preprocessing()\n",
    "    regressor = LinearRegression()\n",
    "    regressor.fit(train_features, train_labels)\n",
    "    predicted_labels = regressor.predict(test_features)\n",
    "    return predicted_labels, test_labels\n",
    "\n",
    "\n",
    "def show_results():\n",
    "    predicted_labels, test_labels = train()\n",
    "    print(f\"Accuracy based on different loss functions:\") \n",
    "    print(f\"MAE: {mean_absolute_error(test_labels, predicted_labels)}\")  \n",
    "    print(f\"MSE: {mean_squared_error(test_labels, predicted_labels)}\") \n",
    "    print(f\"RMSE: {np.sqrt(mean_squared_error(test_labels, predicted_labels))}\")\n",
    "    \n",
    "\n",
    "show_results()"
   ]
  },
  {
   "cell_type": "code",
   "execution_count": null,
   "id": "a11eba84",
   "metadata": {},
   "outputs": [],
   "source": []
  }
 ],
 "metadata": {
  "kernelspec": {
   "display_name": "Python 3 (ipykernel)",
   "language": "python",
   "name": "python3"
  },
  "language_info": {
   "codemirror_mode": {
    "name": "ipython",
    "version": 3
   },
   "file_extension": ".py",
   "mimetype": "text/x-python",
   "name": "python",
   "nbconvert_exporter": "python",
   "pygments_lexer": "ipython3",
   "version": "3.10.9"
  }
 },
 "nbformat": 4,
 "nbformat_minor": 5
}
